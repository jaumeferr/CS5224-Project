{
 "cells": [
  {
   "cell_type": "code",
   "execution_count": null,
   "id": "935e722c-7ffb-47a2-9cba-494eda527e34",
   "metadata": {
    "tags": []
   },
   "outputs": [],
   "source": [
    "from mastodon import Mastodon\n",
    "\n",
    "import os\n",
    "import sys"
   ]
  },
  {
   "cell_type": "markdown",
   "id": "a071aa6c-1a97-42e4-94cb-f0802988b7ea",
   "metadata": {
    "jp-MarkdownHeadingCollapsed": true,
    "tags": []
   },
   "source": [
    "### Login and Test Mastodon API"
   ]
  },
  {
   "cell_type": "code",
   "execution_count": null,
   "id": "7e8f8084-5841-4092-b973-31a8a6d47319",
   "metadata": {
    "tags": []
   },
   "outputs": [],
   "source": [
    "Mastodon.create_app(\n",
    "    'crawler',\n",
    "    api_base_url = 'https://mastodon.social',\n",
    "    to_file = 'clientcred.secret'\n",
    ")"
   ]
  },
  {
   "cell_type": "code",
   "execution_count": null,
   "id": "5c6df6a1-7e26-4f6d-bf60-c340d7adc5c7",
   "metadata": {
    "tags": []
   },
   "outputs": [],
   "source": [
    "mastodon = Mastodon(client_id = 'clientcred.secret',)\n",
    "mastodon.log_in(\n",
    "    'e0925463@u.nus.edu',\n",
    "    'social_scope',\n",
    "    to_file = 'usercred.secret'\n",
    ")"
   ]
  },
  {
   "cell_type": "code",
   "execution_count": null,
   "id": "7c925c8c-2927-4dd9-b2f5-f2720a6d29f6",
   "metadata": {
    "tags": []
   },
   "outputs": [],
   "source": [
    "mastodon.status(\"109355825433550347\")"
   ]
  },
  {
   "cell_type": "markdown",
   "id": "e34ef082-6a98-4a6e-bc7d-4d757e4cc37e",
   "metadata": {
    "tags": []
   },
   "source": [
    "### Crawl Statuses Data"
   ]
  },
  {
   "cell_type": "code",
   "execution_count": null,
   "id": "a732322f-262e-4044-8557-bb550964fea6",
   "metadata": {},
   "outputs": [],
   "source": []
  }
 ],
 "metadata": {
  "kernelspec": {
   "display_name": "Python 3 (ipykernel)",
   "language": "python",
   "name": "python3"
  },
  "language_info": {
   "codemirror_mode": {
    "name": "ipython",
    "version": 3
   },
   "file_extension": ".py",
   "mimetype": "text/x-python",
   "name": "python",
   "nbconvert_exporter": "python",
   "pygments_lexer": "ipython3",
   "version": "3.10.2"
  }
 },
 "nbformat": 4,
 "nbformat_minor": 5
}
