{
 "cells": [
  {
   "cell_type": "code",
   "execution_count": null,
   "metadata": {},
   "outputs": [],
   "source": [
    "from whisper import whisper\n",
    "from pytube import YouTube\n",
    "import pandas as pd\n"
   ]
  },
  {
   "cell_type": "code",
   "execution_count": null,
   "metadata": {},
   "outputs": [],
   "source": [
    "# Get video transcription\n",
    "model = whisper.load_model('base')\n",
    "v_url = \"https://www.youtube.com/watch?v=Rm8iK_FlPCk\"\n",
    "youtube_video = YouTube(v_url) # Select YT video\n",
    "audio_stream_set = youtube_video.streams.filter(only_audio = True)\n",
    "audio_stream = audio_stream_set.first() # Select quality audio stream\n",
    "audio_stream.download(filename = 'test_video.mp4') # Download video\n",
    "output = model.transcribe(\"/content/text_video.mp4\") # Get transcript\n",
    "output"
   ]
  },
  {
   "cell_type": "code",
   "execution_count": null,
   "metadata": {},
   "outputs": [],
   "source": [
    "# Split transcript and save into CSV file\n",
    "import pandas as pd\n",
    "import nltk\n",
    "\n",
    "nltk.download('punkt')  # download the NLTK tokenizer\n",
    "transcript = output['text']\n",
    "# create a Pandas DataFrame with one row for each sentence\n",
    "trans_df = pd.DataFrame({'sentence': nltk.sent_tokenize(transcript)})\n",
    "# add a new column with the length of each sentence\n",
    "trans_df['sentence_length'] = trans_df['sentence'].apply(len)\n",
    "# print the DataFrame\n",
    "print(trans_df)\n",
    "# save the DataFrame to a CSV file\n",
    "trans_df.to_csv('text_video.csv', index=False)\n",
    "print(\"saved\")\n",
    "\n"
   ]
  },
  {
   "cell_type": "code",
   "execution_count": null,
   "metadata": {},
   "outputs": [],
   "source": [
    "df = pd.read_csv('/content/test_video.csv')\n",
    "df = df.set_index([\"title\", \"heading\"])\n",
    "print(f\"{len(df)} rows in the data.\")\n",
    "df.sample(10)"
   ]
  }
 ],
 "metadata": {
  "kernelspec": {
   "display_name": "Python 3",
   "language": "python",
   "name": "python3"
  },
  "language_info": {
   "codemirror_mode": {
    "name": "ipython",
    "version": 3
   },
   "file_extension": ".py",
   "mimetype": "text/x-python",
   "name": "python",
   "nbconvert_exporter": "python",
   "pygments_lexer": "ipython3",
   "version": "3.9.4"
  },
  "orig_nbformat": 4,
  "vscode": {
   "interpreter": {
    "hash": "14a9cbf84dd4a29b46cdff894ec5e0ef4cc44a632636ec2c548fb4524f05c5e7"
   }
  }
 },
 "nbformat": 4,
 "nbformat_minor": 2
}
